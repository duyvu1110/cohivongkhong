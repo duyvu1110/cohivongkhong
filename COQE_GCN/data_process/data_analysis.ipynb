{
 "cells": [
  {
   "attachments": {},
   "cell_type": "markdown",
   "metadata": {},
   "source": [
    "# 功能：对中文语料进行处理，中英文的格式是不同的"
   ]
  },
  {
   "cell_type": "code",
   "execution_count": 9,
   "metadata": {},
   "outputs": [
    {
     "name": "stdout",
     "output_type": "stream",
     "text": [
      "{'0': {'sub': [''], 'obj': ['触 摸 式 屏 智 能'], 'aspect': ['电'], 'opinion': ['耐'], 'sentiment': [3]}, '1': {'sub': [], 'obj': [], 'aspect': [], 'opinion': [], 'sentiment': []}, '2': {'sub': ['同 价 位 的 漫 步'], 'obj': ['漫 步'], 'aspect': ['性 价'], 'opinion': ['更 高 一'], 'sentiment': [3]}, '3': {'sub': ['台 式', '台 式'], 'obj': ['笔 记', '笔 记'], 'aspect': ['声 音 的 清 晰', '音'], 'opinion': ['好 一', '不 如 笔 记 本 的 音 量'], 'sentiment': [3, 1]}}\n",
      "['','触摸式屏智能','电','耐',3]\n",
      "[None,None,None,None,None]\n",
      "['同价位的漫步','漫步','性价','更高一',3]\n",
      "['[台式,笔记,声音的清晰,好一,3]', '[台式,笔记,音,不如笔记本的音量,1]']\n"
     ]
    }
   ],
   "source": [
    "# Function: \n",
    "# 将模型预测答案处理成想要的格式\n",
    "\n",
    "import json\n",
    "import re\n",
    "\n",
    "file_path_json = \"/home/qtxu/Sentiment-SPN/log/2022-12-29-13-42-46-Ele_1GCN_seed55/preds_s.json\"\n",
    "\n",
    "def multi_function(i):\n",
    "    '''\n",
    "    Function: 获取当前多比较句中五元组的表示,并且合并成一个list格式\n",
    "    '''\n",
    "    cur_list_sub = data[str(i)]['sub'] if len(data[str(i)]['sub']) > 0 else None\n",
    "    cur_list_obj = data[str(i)]['obj'] if len(data[str(i)]['obj']) > 0 else None\n",
    "    cur_list_asp = data[str(i)]['aspect'] if len(data[str(i)]['aspect']) > 0 else None\n",
    "    cur_list_opi = data[str(i)]['opinion'] if len(data[str(i)]['opinion']) > 0 else None\n",
    "    cur_list_sent = data[str(i)]['sentiment'] if len(data[str(i)]['sentiment']) > 0 else None\n",
    "\n",
    "    quintuple_list = []\n",
    "    if len(cur_list_sub) > 1:\n",
    "        for l in range(0, len(cur_list_sub)):\n",
    "            cur_sub = cur_list_sub[l].replace(\" \", \"\")\n",
    "            cur_obj = cur_list_obj[l].replace(\" \", \"\")\n",
    "            cur_asp = cur_list_asp[l].replace(\" \", \"\")\n",
    "            cur_opi = cur_list_opi[l].replace(\" \", \"\")\n",
    "            cur_senti = str(cur_list_sent[l])\n",
    "\n",
    "            quintuple = \"[\" + cur_sub + \",\" + cur_obj + \",\" + cur_asp + \",\" + cur_opi + \",\" + cur_senti + \"]\"\n",
    "            quintuple_list.append(quintuple)\n",
    "    return quintuple_list\n",
    "\n",
    "def simple_function(str_s, i):\n",
    "    '''\n",
    "    Function: 获取当前五元组中每一个元组的str表示,该函数仅能处理单比较句或非比较句的情况\n",
    "    '''\n",
    "    cur_list = data[str(i)][str_s] if len(data[str(i)][str_s]) > 0 else None\n",
    "    cur_str = str(cur_list).replace(\" \",\"\")\n",
    "    fin_str = re.sub(r'\\[|\\]','', cur_str)\n",
    "    return fin_str\n",
    "\n",
    "with open(file_path_json, 'r') as f:\n",
    "    data = json.load(f)\n",
    "    print(data)\n",
    "    last_key = list(data.keys())[-1] # 获取dict的长度，即获取dict的最后一个key是什么\n",
    "    last_key = int(last_key)\n",
    "    # print(\"last_key\", last_key)\n",
    "    for i in range(0, last_key+1):\n",
    "        if len(data[str(i)][\"sub\"]) > 1:\n",
    "            quintuple = multi_function(i)\n",
    "\n",
    "        else: # 单一五元组或非比较句\n",
    "            sub = simple_function(\"sub\", i)\n",
    "            obj = simple_function(\"obj\", i)\n",
    "            asp = simple_function(\"aspect\", i)\n",
    "            opi = simple_function(\"opinion\", i)\n",
    "            sent = data[str(i)][\"sentiment\"] if len(data[str(i)][\"sentiment\"]) > 0 else None\n",
    "            sent = re.sub(r'\\[|\\]','',str(sent))\n",
    "            quintuple = \"[\" + sub + \",\" + obj + \",\" + asp + \",\" + opi + \",\" + sent + \"]\"\n",
    "        print(quintuple)\n"
   ]
  },
  {
   "attachments": {},
   "cell_type": "markdown",
   "metadata": {},
   "source": [
    "# Function: 中文\n",
    "对中文E2E-TL的五元组预测结果与标准答案进行比较。"
   ]
  },
  {
   "cell_type": "code",
   "execution_count": null,
   "metadata": {},
   "outputs": [],
   "source": [
    "# Function: \n",
    "# 将模型预测答案处理成想要的格式\n",
    "\n",
    "import json\n",
    "import re\n",
    "\n",
    "file_path_json = \"/home/qtxu/Sentiment-SPN/log/2022-12-29-13-42-46-Ele_1GCN_seed55/preds_s.json\"\n",
    "\n",
    "def multi_function(i):\n",
    "    '''\n",
    "    Function: 获取当前多比较句中五元组的表示,并且合并成一个list格式\n",
    "    '''\n",
    "    cur_list_sub = data[str(i)]['sub'] if len(data[str(i)]['sub']) > 0 else None\n",
    "    cur_list_obj = data[str(i)]['obj'] if len(data[str(i)]['obj']) > 0 else None\n",
    "    cur_list_asp = data[str(i)]['aspect'] if len(data[str(i)]['aspect']) > 0 else None\n",
    "    cur_list_opi = data[str(i)]['opinion'] if len(data[str(i)]['opinion']) > 0 else None\n",
    "    cur_list_sent = data[str(i)]['sentiment'] if len(data[str(i)]['sentiment']) > 0 else None\n",
    "\n",
    "    quintuple_list = []\n",
    "    if len(cur_list_sub) > 1:\n",
    "        for l in range(0, len(cur_list_sub)):\n",
    "            cur_sub = cur_list_sub[l].replace(\" \", \"\")\n",
    "            cur_obj = cur_list_obj[l].replace(\" \", \"\")\n",
    "            cur_asp = cur_list_asp[l].replace(\" \", \"\")\n",
    "            cur_opi = cur_list_opi[l].replace(\" \", \"\")\n",
    "            cur_senti = str(cur_list_sent[l])\n",
    "\n",
    "            quintuple = \"[\" + cur_sub + \",\" + cur_obj + \",\" + cur_asp + \",\" + cur_opi + \",\" + cur_senti + \"]\"\n",
    "            quintuple_list.append(quintuple)\n",
    "    return quintuple_list\n",
    "\n",
    "def simple_function(str_s, i):\n",
    "    '''\n",
    "    Function: 获取当前五元组中每一个元组的str表示,该函数仅能处理单比较句或非比较句的情况\n",
    "    '''\n",
    "    cur_list = data[str(i)][str_s] if len(data[str(i)][str_s]) > 0 else None\n",
    "    cur_str = str(cur_list).replace(\" \",\"\")\n",
    "    fin_str = re.sub(r'\\[|\\]','', cur_str)\n",
    "    return fin_str\n",
    "\n",
    "with open(file_path_json, 'r') as f:\n",
    "    data = json.load(f)\n",
    "    print(data)\n",
    "    last_key = list(data.keys())[-1] # 获取dict的长度，即获取dict的最后一个key是什么\n",
    "    last_key = int(last_key)\n",
    "    # print(\"last_key\", last_key)\n",
    "    for i in range(0, last_key+1):\n",
    "        if len(data[str(i)][\"sub\"]) > 1:\n",
    "            quintuple = multi_function(i)\n",
    "\n",
    "        else: # 单一五元组或非比较句\n",
    "            sub = simple_function(\"sub\", i)\n",
    "            obj = simple_function(\"obj\", i)\n",
    "            asp = simple_function(\"aspect\", i)\n",
    "            opi = simple_function(\"opinion\", i)\n",
    "            sent = data[str(i)][\"sentiment\"] if len(data[str(i)][\"sentiment\"]) > 0 else None\n",
    "            sent = re.sub(r'\\[|\\]','',str(sent))\n",
    "            quintuple = \"[\" + sub + \",\" + obj + \",\" + asp + \",\" + opi + \",\" + sent + \"]\"\n",
    "        print(quintuple)\n"
   ]
  }
 ],
 "metadata": {
  "kernelspec": {
   "display_name": "qtxu_env_3.7",
   "language": "python",
   "name": "python3"
  },
  "language_info": {
   "codemirror_mode": {
    "name": "ipython",
    "version": 3
   },
   "file_extension": ".py",
   "mimetype": "text/x-python",
   "name": "python",
   "nbconvert_exporter": "python",
   "pygments_lexer": "ipython3",
   "version": "3.7.0"
  },
  "orig_nbformat": 4,
  "vscode": {
   "interpreter": {
    "hash": "6a47ee85e4d3fd43d766ef318c39ba9ff51af2e172aae0c1beade709e776e5b0"
   }
  }
 },
 "nbformat": 4,
 "nbformat_minor": 2
}
