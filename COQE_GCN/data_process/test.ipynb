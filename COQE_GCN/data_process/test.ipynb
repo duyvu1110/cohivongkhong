{
 "cells": [
  {
   "cell_type": "code",
   "execution_count": null,
   "metadata": {},
   "outputs": [
    {
     "ename": "",
     "evalue": "",
     "output_type": "error",
     "traceback": [
      "\u001b[1;31m无法启动 Kernel。 \n",
      "\u001b[1;31mFailed to start the Kernel 'qtxu_env_3.7 (Python 3.7.0)'. \n",
      "\u001b[1;31mView Jupyter <a href='command:jupyter.viewOutput'>log</a> for further details. EROFS: read-only file system, open '/tmp/kernel-v2-16318596roT9InwFlSy.json'"
     ]
    }
   ],
   "source": [
    "import spacy\n",
    "from spacy import displacy\n",
    " \n",
    "nlp = spacy.load('en_core_web_sm')\n",
    "# 如果是对中文的句子进行解析，则使用'zh_core_web_sm'\n",
    "# 注意无论是'en_core_web_sm'还是'zh_core_web_sm'的版本号都需要与spacy的版本保持一致\n",
    "doc = nlp(\"I chose the Canon Rebel XT .\")\n",
    " \n",
    "displacy.render(doc, style='dep', jupyter=True)"
   ]
  }
 ],
 "metadata": {
  "kernelspec": {
   "display_name": "qtxu_env_3.7",
   "language": "python",
   "name": "python3"
  },
  "language_info": {
   "name": "python",
   "version": "3.7.0"
  },
  "orig_nbformat": 4,
  "vscode": {
   "interpreter": {
    "hash": "6a47ee85e4d3fd43d766ef318c39ba9ff51af2e172aae0c1beade709e776e5b0"
   }
  }
 },
 "nbformat": 4,
 "nbformat_minor": 2
}
